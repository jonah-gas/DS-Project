{
 "cells": [
  {
   "attachments": {},
   "cell_type": "markdown",
   "metadata": {},
   "source": [
    "We use the ``psycopg2``-module to connect to the database server and execute SQL queries from Python. To simplify the process a couple of utility functions are collected in ``db_utilities.py``.\n",
    "\n",
    "For example, to simply execute a one-time ``SELECT``-query and receive the result as a dataframe it is sufficient to call the ``select_query()``-function from ``db_utilities.py``.\n",
    "\n",
    "If many queries are to be executed in rapid succession the ``select_query()`` and ``manipulating_query()`` functions should either be called in the context of an existing connection (and be passed the connection as an argument) or, if the cursor object should also be reused, avoided completely (in favor of a custom implementation). "
   ]
  },
  {
   "cell_type": "code",
   "execution_count": 2,
   "metadata": {},
   "outputs": [],
   "source": [
    "import db_utilities as dbu"
   ]
  },
  {
   "cell_type": "code",
   "execution_count": 8,
   "metadata": {},
   "outputs": [
    {
     "data": {
      "text/html": [
       "<div>\n",
       "<style scoped>\n",
       "    .dataframe tbody tr th:only-of-type {\n",
       "        vertical-align: middle;\n",
       "    }\n",
       "\n",
       "    .dataframe tbody tr th {\n",
       "        vertical-align: top;\n",
       "    }\n",
       "\n",
       "    .dataframe thead th {\n",
       "        text-align: right;\n",
       "    }\n",
       "</style>\n",
       "<table border=\"1\" class=\"dataframe\">\n",
       "  <thead>\n",
       "    <tr style=\"text-align: right;\">\n",
       "      <th></th>\n",
       "      <th>id</th>\n",
       "      <th>fbref_id</th>\n",
       "      <th>name</th>\n",
       "      <th>country</th>\n",
       "    </tr>\n",
       "  </thead>\n",
       "  <tbody>\n",
       "  </tbody>\n",
       "</table>\n",
       "</div>"
      ],
      "text/plain": [
       "Empty DataFrame\n",
       "Columns: [id, fbref_id, name, country]\n",
       "Index: []"
      ]
     },
     "execution_count": 8,
     "metadata": {},
     "output_type": "execute_result"
    }
   ],
   "source": [
    "# select query (view-only) -> returns dataframe\n",
    "query_str = \"SELECT * FROM leagues;\"\n",
    "result_df = dbu.select_query(query_str)\n",
    "result_df\n",
    "\n",
    "# note: dbu.select_query() will open and close a connection of type 'DB_client' if no connection object is provided"
   ]
  },
  {
   "cell_type": "code",
   "execution_count": 5,
   "metadata": {},
   "outputs": [
    {
     "name": "stdout",
     "output_type": "stream",
     "text": [
      "INSERT 0 1\n"
     ]
    }
   ],
   "source": [
    "# manipulating query -> returns status message\n",
    "query_str = \"INSERT INTO testtable (a, b) VALUES (3, 'test');\"\n",
    "conn = dbu.get_conn(type='DB_test') # connecting to test database here\n",
    "response = dbu.manipulating_query(query_str, conn=conn)\n",
    "conn.close()\n",
    "print(response)"
   ]
  },
  {
   "cell_type": "code",
   "execution_count": 9,
   "metadata": {},
   "outputs": [
    {
     "ename": "UndefinedObject",
     "evalue": "role \"nonexistentuser\" does not exist\n",
     "output_type": "error",
     "traceback": [
      "\u001b[1;31m---------------------------------------------------------------------------\u001b[0m",
      "\u001b[1;31mUndefinedObject\u001b[0m                           Traceback (most recent call last)",
      "\u001b[1;32mc:\\Users\\Jan Jacobsen\\DS_Tue_local\\DS-Project\\database_server\\connecting_from_python_demo.ipynb Cell 5\u001b[0m in \u001b[0;36m<cell line: 6>\u001b[1;34m()\u001b[0m\n\u001b[0;32m      <a href='vscode-notebook-cell:/c%3A/Users/Jan%20Jacobsen/DS_Tue_local/DS-Project/database_server/connecting_from_python_demo.ipynb#X10sZmlsZQ%3D%3D?line=2'>3</a>\u001b[0m query_str \u001b[39m=\u001b[39m \u001b[39mf\u001b[39m\u001b[39m\"\u001b[39m\u001b[39mGRANT ALL ON ALL TABLES IN SCHEMA public TO \u001b[39m\u001b[39m{\u001b[39;00muser\u001b[39m}\u001b[39;00m\u001b[39m;\u001b[39m\u001b[39m\"\u001b[39m\n\u001b[0;32m      <a href='vscode-notebook-cell:/c%3A/Users/Jan%20Jacobsen/DS_Tue_local/DS-Project/database_server/connecting_from_python_demo.ipynb#X10sZmlsZQ%3D%3D?line=4'>5</a>\u001b[0m conn \u001b[39m=\u001b[39m dbu\u001b[39m.\u001b[39mget_conn(\u001b[39mtype\u001b[39m\u001b[39m=\u001b[39m\u001b[39m'\u001b[39m\u001b[39mDB_su\u001b[39m\u001b[39m'\u001b[39m) \u001b[39m# superuser connection (required for administrative tasks)\u001b[39;00m\n\u001b[1;32m----> <a href='vscode-notebook-cell:/c%3A/Users/Jan%20Jacobsen/DS_Tue_local/DS-Project/database_server/connecting_from_python_demo.ipynb#X10sZmlsZQ%3D%3D?line=5'>6</a>\u001b[0m response \u001b[39m=\u001b[39m dbu\u001b[39m.\u001b[39;49mmanipulating_query(query_str, conn\u001b[39m=\u001b[39;49mconn)\n\u001b[0;32m      <a href='vscode-notebook-cell:/c%3A/Users/Jan%20Jacobsen/DS_Tue_local/DS-Project/database_server/connecting_from_python_demo.ipynb#X10sZmlsZQ%3D%3D?line=6'>7</a>\u001b[0m conn\u001b[39m.\u001b[39mclose()\n\u001b[0;32m      <a href='vscode-notebook-cell:/c%3A/Users/Jan%20Jacobsen/DS_Tue_local/DS-Project/database_server/connecting_from_python_demo.ipynb#X10sZmlsZQ%3D%3D?line=7'>8</a>\u001b[0m \u001b[39mprint\u001b[39m(response)\n",
      "File \u001b[1;32mc:\\Users\\Jan Jacobsen\\DS_Tue_local\\DS-Project\\database_server\\db_utilities.py:74\u001b[0m, in \u001b[0;36mmanipulating_query\u001b[1;34m(query_str, conn)\u001b[0m\n\u001b[0;32m     72\u001b[0m \u001b[39m# create cursor and execute query\u001b[39;00m\n\u001b[0;32m     73\u001b[0m \u001b[39mwith\u001b[39;00m conn\u001b[39m.\u001b[39mcursor() \u001b[39mas\u001b[39;00m cur:\n\u001b[1;32m---> 74\u001b[0m     cur\u001b[39m.\u001b[39;49mexecute(query_str \u001b[39mif\u001b[39;49;00m query_str\u001b[39m.\u001b[39;49mendswith(\u001b[39m'\u001b[39;49m\u001b[39m;\u001b[39;49m\u001b[39m'\u001b[39;49m) \u001b[39melse\u001b[39;49;00m query_str \u001b[39m+\u001b[39;49m \u001b[39m'\u001b[39;49m\u001b[39m;\u001b[39;49m\u001b[39m'\u001b[39;49m)\n\u001b[0;32m     75\u001b[0m     status_msg \u001b[39m=\u001b[39m cur\u001b[39m.\u001b[39mstatusmessage \u001b[39m# get response\u001b[39;00m\n\u001b[0;32m     76\u001b[0m     conn\u001b[39m.\u001b[39mcommit() \u001b[39m# commit changes\u001b[39;00m\n",
      "\u001b[1;31mUndefinedObject\u001b[0m: role \"nonexistentuser\" does not exist\n"
     ]
    }
   ],
   "source": [
    "# can also perform administrative tasks as database superuser\n",
    "user = 'nonexistentuser'\n",
    "query_str = f\"GRANT ALL ON ALL TABLES IN SCHEMA public TO {user};\"\n",
    "\n",
    "conn = dbu.get_conn(type='DB_su') # superuser connection (required for administrative tasks)\n",
    "response = dbu.manipulating_query(query_str, conn=conn)\n",
    "conn.close()\n",
    "print(response)"
   ]
  },
  {
   "cell_type": "code",
   "execution_count": 12,
   "metadata": {},
   "outputs": [],
   "source": [
    "try:\n",
    "    conn.close()\n",
    "finally:\n",
    "    pass"
   ]
  }
 ],
 "metadata": {
  "kernelspec": {
   "display_name": "Python 3",
   "language": "python",
   "name": "python3"
  },
  "language_info": {
   "codemirror_mode": {
    "name": "ipython",
    "version": 3
   },
   "file_extension": ".py",
   "mimetype": "text/x-python",
   "name": "python",
   "nbconvert_exporter": "python",
   "pygments_lexer": "ipython3",
   "version": "3.9.13"
  },
  "orig_nbformat": 4
 },
 "nbformat": 4,
 "nbformat_minor": 2
}
