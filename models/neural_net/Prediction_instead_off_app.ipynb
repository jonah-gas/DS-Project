{
 "cells": [
  {
   "cell_type": "code",
   "execution_count": 1,
   "id": "ed59286a",
   "metadata": {},
   "outputs": [],
   "source": [
    "import warnings\n",
    "warnings.filterwarnings(\"ignore\")\n",
    "import pandas as pd\n",
    "import matplotlib.pyplot as plt\n",
    "import torchvision as T\n",
    "import torch\n",
    "from sklearn import preprocessing\n",
    "import numpy as np\n",
    "from sklearn.preprocessing import StandardScaler, OneHotEncoder\n",
    "from torch.utils.data import Dataset, DataLoader\n",
    "import math\n",
    "import itertools\n",
    "import os\n",
    "import sys\n",
    "root_path = os.path.abspath(os.path.join('../..')) # <- adjust such that root_path always points at the root project dir (i.e. if current file is two folders deep, use '../..'). \n",
    "if root_path not in sys.path:\n",
    "    sys.path.append(root_path)\n",
    "import database_server.db_utilities as dbu \n",
    "import pickle as pkl\n",
    "from sklearn.decomposition import PCA\n",
    "from LSTM_help_functions import preprocess, game_dict, inputs, inputs_2seas, club_dict, points_and_co, points_and_co_oppon, data_to_lstm, Sport_pred_2LSTM_1, two_team_inputs\n",
    "import random\n",
    "from LSTM_prediction import lstm_setup, sequence_models, sequence_models_2gru, sequence_models_goalpred\n",
    "from gru_models import Sport_pred_1GRU_3, Sport_pred_2GRU_1"
   ]
  },
  {
   "cell_type": "code",
   "execution_count": 2,
   "id": "73d29afb",
   "metadata": {},
   "outputs": [],
   "source": [
    "torch.manual_seed(69420)\n",
    "random.seed(69420)\n",
    "np.random.seed(69420)"
   ]
  },
  {
   "cell_type": "code",
   "execution_count": 3,
   "id": "b3470268",
   "metadata": {},
   "outputs": [],
   "source": [
    "import pickle\n",
    "with open('clubs_gru.pkl', 'rb') as f:\n",
    "    clubs = pickle.load(f)"
   ]
  },
  {
   "cell_type": "code",
   "execution_count": 4,
   "id": "4444f9db",
   "metadata": {},
   "outputs": [],
   "source": [
    "with open('rearrange_list_gru.pkl', 'rb') as f:\n",
    "    rearrange_list = pickle.load(f)"
   ]
  },
  {
   "cell_type": "code",
   "execution_count": 5,
   "id": "4326e2c5",
   "metadata": {},
   "outputs": [],
   "source": [
    "with open('scale_df_gru.pkl', 'rb') as f:\n",
    "    scale_df = pickle.load(f)"
   ]
  },
  {
   "cell_type": "code",
   "execution_count": 6,
   "id": "62c9edfc",
   "metadata": {},
   "outputs": [],
   "source": [
    "with open('result_dict_gru.pkl', 'rb') as f:\n",
    "    result_dict = pickle.load(f)"
   ]
  },
  {
   "cell_type": "code",
   "execution_count": 7,
   "id": "bfe59711",
   "metadata": {},
   "outputs": [],
   "source": [
    "with open('venue_dict_gru.pkl', 'rb') as f:\n",
    "    venue_dict = pickle.load(f)"
   ]
  },
  {
   "cell_type": "code",
   "execution_count": null,
   "id": "c6dbdb10",
   "metadata": {},
   "outputs": [],
   "source": []
  },
  {
   "cell_type": "markdown",
   "id": "99325bb8",
   "metadata": {},
   "source": [
    "# 1GRU outcome prediction "
   ]
  },
  {
   "cell_type": "code",
   "execution_count": 25,
   "id": "efd7575f",
   "metadata": {},
   "outputs": [
    {
     "data": {
      "text/plain": [
       "Sport_pred_1GRU_3(\n",
       "  (l_lstm1): GRU(369, 369, num_layers=2, batch_first=True, dropout=0.2)\n",
       "  (l_linear1): Linear(in_features=369, out_features=3, bias=True)\n",
       "  (soft): Softmax(dim=None)\n",
       "  (relu): ReLU()\n",
       "  (sigm): Sigmoid()\n",
       ")"
      ]
     },
     "execution_count": 25,
     "metadata": {},
     "output_type": "execute_result"
    }
   ],
   "source": [
    "net = torch.load(os.path.join(root_path, \"models\", \"neural_net\", \"saved_models\", \"1GRU_3_outcome.pth\"))\n",
    "net.eval()"
   ]
  },
  {
   "cell_type": "code",
   "execution_count": 9,
   "id": "a4b0c579",
   "metadata": {},
   "outputs": [
    {
     "data": {
      "text/html": [
       "<div>\n",
       "<style scoped>\n",
       "    .dataframe tbody tr th:only-of-type {\n",
       "        vertical-align: middle;\n",
       "    }\n",
       "\n",
       "    .dataframe tbody tr th {\n",
       "        vertical-align: top;\n",
       "    }\n",
       "\n",
       "    .dataframe thead th {\n",
       "        text-align: right;\n",
       "    }\n",
       "</style>\n",
       "<table border=\"1\" class=\"dataframe\">\n",
       "  <thead>\n",
       "    <tr style=\"text-align: right;\">\n",
       "      <th></th>\n",
       "      <th>home_win_prob</th>\n",
       "      <th>draw_prob</th>\n",
       "      <th>away_win_prob</th>\n",
       "    </tr>\n",
       "  </thead>\n",
       "  <tbody>\n",
       "    <tr>\n",
       "      <th>0</th>\n",
       "      <td>0.331521</td>\n",
       "      <td>0.280523</td>\n",
       "      <td>0.387956</td>\n",
       "    </tr>\n",
       "  </tbody>\n",
       "</table>\n",
       "</div>"
      ],
      "text/plain": [
       "   home_win_prob  draw_prob  away_win_prob\n",
       "0       0.331521   0.280523       0.387956"
      ]
     },
     "execution_count": 9,
     "metadata": {},
     "output_type": "execute_result"
    }
   ],
   "source": [
    "sequence_models(net, 88, 65, clubs, rearrange_list, scale_df, result_dict, venue_dict)"
   ]
  },
  {
   "cell_type": "code",
   "execution_count": null,
   "id": "a8fcb127",
   "metadata": {},
   "outputs": [],
   "source": []
  },
  {
   "cell_type": "markdown",
   "id": "f003e5e0",
   "metadata": {},
   "source": [
    "# 2GRU outcome prediction"
   ]
  },
  {
   "cell_type": "code",
   "execution_count": 24,
   "id": "5e19ae81",
   "metadata": {},
   "outputs": [
    {
     "data": {
      "text/plain": [
       "Sport_pred_2GRU_1(\n",
       "  (l_lstm1): GRU(369, 369, num_layers=2, batch_first=True, dropout=0.2)\n",
       "  (l_lstm2): GRU(369, 369, num_layers=2, batch_first=True, dropout=0.2)\n",
       "  (l_linear1): Linear(in_features=738, out_features=738, bias=True)\n",
       "  (l_linear2): Linear(in_features=738, out_features=3, bias=True)\n",
       "  (soft): Softmax(dim=None)\n",
       "  (relu): ReLU()\n",
       "  (sigm): Sigmoid()\n",
       ")"
      ]
     },
     "execution_count": 24,
     "metadata": {},
     "output_type": "execute_result"
    }
   ],
   "source": [
    "net2 = torch.load(os.path.join(root_path, \"models\", \"neural_net\", \"saved_models\", \"2GRU_1_outcome.pth\"))\n",
    "net2.eval()"
   ]
  },
  {
   "cell_type": "code",
   "execution_count": 11,
   "id": "9692eeff",
   "metadata": {},
   "outputs": [
    {
     "data": {
      "text/html": [
       "<div>\n",
       "<style scoped>\n",
       "    .dataframe tbody tr th:only-of-type {\n",
       "        vertical-align: middle;\n",
       "    }\n",
       "\n",
       "    .dataframe tbody tr th {\n",
       "        vertical-align: top;\n",
       "    }\n",
       "\n",
       "    .dataframe thead th {\n",
       "        text-align: right;\n",
       "    }\n",
       "</style>\n",
       "<table border=\"1\" class=\"dataframe\">\n",
       "  <thead>\n",
       "    <tr style=\"text-align: right;\">\n",
       "      <th></th>\n",
       "      <th>home_win_prob</th>\n",
       "      <th>draw_prob</th>\n",
       "      <th>away_win_prob</th>\n",
       "    </tr>\n",
       "  </thead>\n",
       "  <tbody>\n",
       "    <tr>\n",
       "      <th>0</th>\n",
       "      <td>0.283996</td>\n",
       "      <td>0.303984</td>\n",
       "      <td>0.41202</td>\n",
       "    </tr>\n",
       "  </tbody>\n",
       "</table>\n",
       "</div>"
      ],
      "text/plain": [
       "   home_win_prob  draw_prob  away_win_prob\n",
       "0       0.283996   0.303984        0.41202"
      ]
     },
     "execution_count": 11,
     "metadata": {},
     "output_type": "execute_result"
    }
   ],
   "source": [
    "sequence_models_2gru(net2, 88, 65, clubs, rearrange_list, scale_df, result_dict, venue_dict)"
   ]
  },
  {
   "cell_type": "code",
   "execution_count": null,
   "id": "be1eab0c",
   "metadata": {},
   "outputs": [],
   "source": []
  },
  {
   "cell_type": "markdown",
   "id": "5e2f9cdc",
   "metadata": {},
   "source": [
    "# 1GRU goal prediction"
   ]
  },
  {
   "cell_type": "code",
   "execution_count": 26,
   "id": "6b5c8fb1",
   "metadata": {
    "scrolled": true
   },
   "outputs": [
    {
     "data": {
      "text/plain": [
       "Sport_pred_1GRU_3(\n",
       "  (l_lstm1): GRU(370, 370, num_layers=2, batch_first=True, dropout=0.2)\n",
       "  (l_linear1): Linear(in_features=370, out_features=10, bias=True)\n",
       "  (soft): Softmax(dim=None)\n",
       "  (relu): ReLU()\n",
       "  (sigm): Sigmoid()\n",
       ")"
      ]
     },
     "execution_count": 26,
     "metadata": {},
     "output_type": "execute_result"
    }
   ],
   "source": [
    "net3 = torch.load(os.path.join(root_path, \"models\", \"neural_net\", \"saved_models\", \"1GRU_3_goals.pth\"))\n",
    "net3.eval()"
   ]
  },
  {
   "cell_type": "code",
   "execution_count": 13,
   "id": "88273efc",
   "metadata": {},
   "outputs": [],
   "source": [
    "with open('rearrange_list_gru_goals.pkl', 'rb') as f:\n",
    "    rearrange_list_goals = pickle.load(f)"
   ]
  },
  {
   "cell_type": "code",
   "execution_count": 19,
   "id": "d39cd0a8",
   "metadata": {},
   "outputs": [],
   "source": [
    "home, away = sequence_models_goalpred(net3, 11, 65, clubs, rearrange_list_goals, scale_df, result_dict, venue_dict)"
   ]
  },
  {
   "cell_type": "code",
   "execution_count": 20,
   "id": "863fb19d",
   "metadata": {},
   "outputs": [
    {
     "data": {
      "text/html": [
       "<div>\n",
       "<style scoped>\n",
       "    .dataframe tbody tr th:only-of-type {\n",
       "        vertical-align: middle;\n",
       "    }\n",
       "\n",
       "    .dataframe tbody tr th {\n",
       "        vertical-align: top;\n",
       "    }\n",
       "\n",
       "    .dataframe thead th {\n",
       "        text-align: right;\n",
       "    }\n",
       "</style>\n",
       "<table border=\"1\" class=\"dataframe\">\n",
       "  <thead>\n",
       "    <tr style=\"text-align: right;\">\n",
       "      <th></th>\n",
       "      <th>0</th>\n",
       "      <th>1</th>\n",
       "      <th>2</th>\n",
       "      <th>3</th>\n",
       "      <th>4</th>\n",
       "      <th>5</th>\n",
       "      <th>6</th>\n",
       "      <th>7</th>\n",
       "      <th>8</th>\n",
       "      <th>9</th>\n",
       "    </tr>\n",
       "  </thead>\n",
       "  <tbody>\n",
       "    <tr>\n",
       "      <th>0</th>\n",
       "      <td>0.320536</td>\n",
       "      <td>0.35542</td>\n",
       "      <td>0.184565</td>\n",
       "      <td>0.102025</td>\n",
       "      <td>0.024786</td>\n",
       "      <td>0.008939</td>\n",
       "      <td>0.002165</td>\n",
       "      <td>0.000762</td>\n",
       "      <td>0.000367</td>\n",
       "      <td>0.000434</td>\n",
       "    </tr>\n",
       "  </tbody>\n",
       "</table>\n",
       "</div>"
      ],
      "text/plain": [
       "          0        1         2         3         4         5         6  \\\n",
       "0  0.320536  0.35542  0.184565  0.102025  0.024786  0.008939  0.002165   \n",
       "\n",
       "          7         8         9  \n",
       "0  0.000762  0.000367  0.000434  "
      ]
     },
     "execution_count": 20,
     "metadata": {},
     "output_type": "execute_result"
    }
   ],
   "source": [
    "home"
   ]
  },
  {
   "cell_type": "code",
   "execution_count": 21,
   "id": "f9ce90f1",
   "metadata": {},
   "outputs": [
    {
     "data": {
      "text/html": [
       "<div>\n",
       "<style scoped>\n",
       "    .dataframe tbody tr th:only-of-type {\n",
       "        vertical-align: middle;\n",
       "    }\n",
       "\n",
       "    .dataframe tbody tr th {\n",
       "        vertical-align: top;\n",
       "    }\n",
       "\n",
       "    .dataframe thead th {\n",
       "        text-align: right;\n",
       "    }\n",
       "</style>\n",
       "<table border=\"1\" class=\"dataframe\">\n",
       "  <thead>\n",
       "    <tr style=\"text-align: right;\">\n",
       "      <th></th>\n",
       "      <th>0</th>\n",
       "      <th>1</th>\n",
       "      <th>2</th>\n",
       "      <th>3</th>\n",
       "      <th>4</th>\n",
       "      <th>5</th>\n",
       "      <th>6</th>\n",
       "      <th>7</th>\n",
       "      <th>8</th>\n",
       "      <th>9</th>\n",
       "    </tr>\n",
       "  </thead>\n",
       "  <tbody>\n",
       "    <tr>\n",
       "      <th>0</th>\n",
       "      <td>0.369541</td>\n",
       "      <td>0.350464</td>\n",
       "      <td>0.185828</td>\n",
       "      <td>0.067833</td>\n",
       "      <td>0.018705</td>\n",
       "      <td>0.005598</td>\n",
       "      <td>0.001407</td>\n",
       "      <td>0.00032</td>\n",
       "      <td>0.000149</td>\n",
       "      <td>0.000156</td>\n",
       "    </tr>\n",
       "  </tbody>\n",
       "</table>\n",
       "</div>"
      ],
      "text/plain": [
       "          0         1         2         3         4         5         6  \\\n",
       "0  0.369541  0.350464  0.185828  0.067833  0.018705  0.005598  0.001407   \n",
       "\n",
       "         7         8         9  \n",
       "0  0.00032  0.000149  0.000156  "
      ]
     },
     "execution_count": 21,
     "metadata": {},
     "output_type": "execute_result"
    }
   ],
   "source": [
    "away"
   ]
  },
  {
   "cell_type": "code",
   "execution_count": null,
   "id": "acb657e5",
   "metadata": {},
   "outputs": [],
   "source": []
  },
  {
   "cell_type": "code",
   "execution_count": null,
   "id": "ec037179",
   "metadata": {},
   "outputs": [],
   "source": []
  },
  {
   "cell_type": "code",
   "execution_count": null,
   "id": "cdaf0c60",
   "metadata": {},
   "outputs": [],
   "source": []
  },
  {
   "cell_type": "code",
   "execution_count": 27,
   "id": "e6274e1c",
   "metadata": {},
   "outputs": [
    {
     "data": {
      "text/plain": [
       "'/Users/paul/Documents/Uni/SoSe23/dsp2/DS-Project/models/neural_net'"
      ]
     },
     "execution_count": 27,
     "metadata": {},
     "output_type": "execute_result"
    }
   ],
   "source": [
    "os.getcwd()"
   ]
  }
 ],
 "metadata": {
  "kernelspec": {
   "display_name": "Python 3 (ipykernel)",
   "language": "python",
   "name": "python3"
  },
  "language_info": {
   "codemirror_mode": {
    "name": "ipython",
    "version": 3
   },
   "file_extension": ".py",
   "mimetype": "text/x-python",
   "name": "python",
   "nbconvert_exporter": "python",
   "pygments_lexer": "ipython3",
   "version": "3.9.13"
  }
 },
 "nbformat": 4,
 "nbformat_minor": 5
}
